{
 "cells": [
  {
   "cell_type": "code",
   "execution_count": 1,
   "metadata": {},
   "outputs": [],
   "source": [
    "import numpy as np\n",
    "import torch "
   ]
  },
  {
   "cell_type": "markdown",
   "metadata": {},
   "source": [
    "lets create linear regression with just numpy"
   ]
  },
  {
   "cell_type": "code",
   "execution_count": 15,
   "metadata": {},
   "outputs": [
    {
     "name": "stdout",
     "output_type": "stream",
     "text": [
      "epoich 1 loss is 44.0, weights = 0.4399999976158142\n",
      "epoich 2 loss is 26.76959800720215, weights = 0.7832000255584717\n",
      "epoich 3 loss is 16.286624908447266, weights = 1.0508959293365479\n",
      "epoich 4 loss is 9.908784866333008, weights = 1.2596988677978516\n",
      "epoich 5 loss is 6.02850341796875, weights = 1.4225651025772095\n",
      "epoich 6 loss is 3.6677417755126953, weights = 1.5496008396148682\n",
      "epoich 7 loss is 2.2314534187316895, weights = 1.6486886739730835\n",
      "epoich 8 loss is 1.3576161861419678, weights = 1.7259771823883057\n",
      "epoich 9 loss is 0.8259735107421875, weights = 1.7862621545791626\n",
      "epoich 10 loss is 0.5025225877761841, weights = 1.8332844972610474\n"
     ]
    }
   ],
   "source": [
    "X = np.array([1,2,3,4,5], dtype=np.float32)\n",
    "Y = np.array([2,4,6,8,10], dtype=np.float32)\n",
    "# y = w * x  = 2x\n",
    "\n",
    "w = 0.0\n",
    "\n",
    "#forward function\n",
    "def forward(x):\n",
    "    return w*x\n",
    "\n",
    "#loss\n",
    "def loss(X,Y,Y_pred):\n",
    "    return ((Y_pred-Y)**2).mean()\n",
    "\n",
    "#gradient\n",
    "def gradient(X,Y,Y_pred):\n",
    "    return np.mean(2*X*(Y_pred-Y))\n",
    "\n",
    "leanring_rate = 0.01\n",
    "epochs = 10\n",
    "\n",
    "for i in range(epochs):\n",
    "    Y_pred = forward(X)\n",
    "    \n",
    "    l = loss(X,Y,Y_pred)\n",
    "    \n",
    "    dj_dw = gradient(X,Y,Y_pred)\n",
    "    \n",
    "    w = w - leanring_rate * dj_dw\n",
    "    \n",
    "    if i % 1 == 0:\n",
    "        print(f\"epoich {i+1} loss is {l}, weights = {w}\")"
   ]
  },
  {
   "cell_type": "markdown",
   "metadata": {},
   "source": [
    "using autograd"
   ]
  },
  {
   "cell_type": "code",
   "execution_count": 14,
   "metadata": {},
   "outputs": [
    {
     "name": "stdout",
     "output_type": "stream",
     "text": [
      "epoich 1 loss is 44.0, weights = 0.4399999976158142\n",
      "epoich 2 loss is 26.769601821899414, weights = 1.2232000827789307\n",
      "epoich 3 loss is 6.637599945068359, weights = 2.1772961616516113\n",
      "epoich 4 loss is 0.34577304124832153, weights = 3.0923871994018555\n",
      "epoich 5 loss is 13.1264066696167, weights = 3.767153024673462\n",
      "epoich 6 loss is 34.35112762451172, weights = 4.053144931793213\n",
      "epoich 7 loss is 46.36944580078125, weights = 3.8874452114105225\n",
      "epoich 8 loss is 39.18694305419922, weights = 3.3065075874328613\n",
      "epoich 9 loss is 18.776582717895508, weights = 2.438138246536255\n",
      "epoich 10 loss is 2.111616373062134, weights = 1.4733784198760986\n"
     ]
    }
   ],
   "source": [
    "import torch\n",
    "\n",
    "X = torch.tensor([1,2,3,4,5], dtype=torch.float32)\n",
    "Y = torch.tensor([2,4,6,8,10], dtype=torch.float32)\n",
    "# y = w * x  = 2x\n",
    "\n",
    "w = torch.tensor(0.0, dtype=torch.float32, requires_grad=True)\n",
    "\n",
    "#forward function\n",
    "def forward(x):\n",
    "    return w * x\n",
    "\n",
    "#loss\n",
    "def loss(Y,Y_pred):\n",
    "    return ((Y_pred-Y)**2).mean()\n",
    "\n",
    "leanring_rate = 0.01\n",
    "epochs = 10\n",
    "\n",
    "for i in range(epochs):\n",
    "    Y_pred = forward(X)\n",
    "\n",
    "    l = loss(Y,Y_pred)\n",
    "    l.backward()\n",
    "\n",
    "    with torch.no_grad():\n",
    "        w.data = w.data -  leanring_rate * w.grad\n",
    "        \n",
    "    if i % 1 == 0:\n",
    "        print(f\"epoich {i+1} loss is {l}, weights = {w}\")"
   ]
  },
  {
   "cell_type": "markdown",
   "metadata": {},
   "source": [
    "now lets use loss and optimization"
   ]
  },
  {
   "cell_type": "code",
   "execution_count": 2,
   "metadata": {},
   "outputs": [
    {
     "name": "stdout",
     "output_type": "stream",
     "text": [
      "epoich 1 loss is 44.0, weights = 0.4399999976158142\n",
      "epoich 10 loss is 0.5025225877761841, weights = 1.8332844972610474\n",
      "epoich 19 loss is 0.005739313550293446, weights = 1.9821833372116089\n",
      "epoich 28 loss is 6.554566789418459e-05, weights = 1.998095989227295\n",
      "epoich 37 loss is 7.490140774280007e-07, weights = 1.9997965097427368\n",
      "epoich 46 loss is 8.554127184368099e-09, weights = 1.9999781847000122\n",
      "epoich 55 loss is 1.0028600172518054e-10, weights = 1.9999977350234985\n",
      "epoich 64 loss is 1.4466650533756509e-12, weights = 1.999999761581421\n",
      "epoich 73 loss is 6.025402616086084e-13, weights = 1.999999761581421\n",
      "epoich 82 loss is 6.025402616086084e-13, weights = 1.999999761581421\n",
      "epoich 91 loss is 6.025402616086084e-13, weights = 1.999999761581421\n",
      "epoich 100 loss is 6.025402616086084e-13, weights = 1.999999761581421\n"
     ]
    }
   ],
   "source": [
    "import torch\n",
    "import torch.nn as nn\n",
    "\n",
    "X = torch.tensor([1,2,3,4,5], dtype=torch.float32)\n",
    "Y = torch.tensor([2,4,6,8,10], dtype=torch.float32)\n",
    "# y = w * x  = 2x\n",
    "\n",
    "w = torch.tensor(0.0, dtype=torch.float32, requires_grad=True)\n",
    "\n",
    "#forward function\n",
    "def forward(x):\n",
    "    return w * x\n",
    "\n",
    "#loss\n",
    "loss = nn.MSELoss()\n",
    "\n",
    "#optimizer\n",
    "\n",
    "leanring_rate = 0.01\n",
    "epochs = 100\n",
    "\n",
    "optimizer = torch.optim.SGD([w], lr=leanring_rate)\n",
    "\n",
    "for i in range(epochs):\n",
    "    Y_pred = forward(X)\n",
    "\n",
    "    l = loss(Y,Y_pred)\n",
    "    \n",
    "    l.backward()\n",
    "    \n",
    "    optimizer.step()\n",
    "    \n",
    "    optimizer.zero_grad()\n",
    "\n",
    "    if i % 9 == 0:\n",
    "        print(f\"epoich {i+1} loss is {l}, weights = {w}\")"
   ]
  },
  {
   "cell_type": "markdown",
   "metadata": {},
   "source": [
    "lets create model "
   ]
  },
  {
   "cell_type": "code",
   "execution_count": 14,
   "metadata": {},
   "outputs": [
    {
     "name": "stdout",
     "output_type": "stream",
     "text": [
      "epoich 1 loss is 29.013736724853516, weights = 0.7332231998443604\n",
      "epoich 10 loss is 0.3313646614551544, weights = 1.8646209239959717\n",
      "epoich 19 loss is 0.0037845284678041935, weights = 1.9855321645736694\n",
      "epoich 28 loss is 4.3218919017817825e-05, weights = 1.9984538555145264\n",
      "epoich 37 loss is 4.937961648465716e-07, weights = 1.9998347759246826\n",
      "epoich 46 loss is 5.6474731557898394e-09, weights = 1.9999823570251465\n",
      "epoich 55 loss is 6.870379959389439e-11, weights = 1.9999980926513672\n",
      "epoich 64 loss is 6.025402616086084e-13, weights = 1.999999761581421\n",
      "epoich 73 loss is 6.025402616086084e-13, weights = 1.999999761581421\n",
      "epoich 82 loss is 6.025402616086084e-13, weights = 1.999999761581421\n",
      "epoich 91 loss is 6.025402616086084e-13, weights = 1.999999761581421\n",
      "epoich 100 loss is 6.025402616086084e-13, weights = 1.999999761581421\n"
     ]
    }
   ],
   "source": [
    "import torch\n",
    "import torch.nn as nn\n",
    "\n",
    "#it take each sample as row\n",
    "X = torch.tensor([1,2,3,4,5], dtype=torch.float32).view(-1,1)\n",
    "Y = torch.tensor([2,4,6,8,10], dtype=torch.float32).view(-1,1)\n",
    "\n",
    "# y = w * x  = 2x\n",
    "\n",
    "#it takes input shape, output_shape, \n",
    "n_samples, n_features = X.size()\n",
    "in_shape, out_shape  = n_features, n_features\n",
    "model = nn.Linear(in_shape, out_shape,bias=False)#seting the bias False make the learning faster and the funciton y=wx with no b\n",
    "\n",
    "#loss\n",
    "loss = nn.MSELoss()\n",
    "\n",
    "#optimizer\n",
    "\n",
    "leanring_rate = 0.01\n",
    "epochs = 100\n",
    "\n",
    "optimizer = torch.optim.SGD(model.parameters(), lr=leanring_rate)\n",
    "\n",
    "for i in range(epochs):\n",
    "    Y_pred = model(X)\n",
    "\n",
    "    l = loss(Y,Y_pred)\n",
    "    \n",
    "    l.backward()\n",
    "    \n",
    "    optimizer.step()\n",
    "    \n",
    "    optimizer.zero_grad()\n",
    "\n",
    "    if i % 9 == 0:\n",
    "        w = model.weight.data\n",
    "        print(f\"epoich {i+1} loss is {l}, weights = {w[0,0]}\")"
   ]
  },
  {
   "cell_type": "code",
   "execution_count": null,
   "metadata": {},
   "outputs": [],
   "source": []
  }
 ],
 "metadata": {
  "kernelspec": {
   "display_name": "pytorch",
   "language": "python",
   "name": "python3"
  },
  "language_info": {
   "codemirror_mode": {
    "name": "ipython",
    "version": 3
   },
   "file_extension": ".py",
   "mimetype": "text/x-python",
   "name": "python",
   "nbconvert_exporter": "python",
   "pygments_lexer": "ipython3",
   "version": "3.12.7"
  }
 },
 "nbformat": 4,
 "nbformat_minor": 2
}
